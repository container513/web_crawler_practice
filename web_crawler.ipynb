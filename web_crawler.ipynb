{
 "cells": [
  {
   "cell_type": "code",
   "execution_count": 3,
   "metadata": {},
   "outputs": [
    {
     "name": "stdout",
     "output_type": "stream",
     "text": [
      "/bbs/MobileComm/M.1615628815.A.D0C.html [問題] 手機裡住著小精靈\n",
      "/bbs/MobileComm/M.1615630728.A.F38.html [討論] 安卓用久就會慢是因為記憶體吃滿\n",
      "/bbs/MobileComm/M.1615638652.A.B4D.html [公告] 欸，當我好夥伴啦-板主徵選相關事宜\n",
      "/bbs/MobileComm/M.1615640026.A.B6E.html [討論] IG近期似乎有針對特殊比例手機調整\n",
      "/bbs/MobileComm/M.1615640491.A.4F0.html Re: [討論] 安卓用久就會慢是因為記憶體吃滿\n",
      "/bbs/MobileComm/M.1615643342.A.791.html [新聞] DXO引爭議！一加9系列不送測\n",
      "/bbs/MobileComm/M.1615644406.A.996.html [問卷] 線上串流影音平台行為調查(抽獎、p幣)\n",
      "/bbs/MobileComm/M.1615644685.A.862.html [問題] 安卓11(抑或三星UI 3.0)的通知\n",
      "/bbs/MobileComm/M.1601912245.A.E24.html [公告] 置底閒聊區3.0\n",
      "/bbs/MobileComm/M.1611077033.A.778.html [公告] MobileComm板規 2021/01/20版\n",
      "/bbs/MobileComm/M.1614254084.A.AB8.html [公告] 手機攝影大賽之作品資訊和討論區\n",
      "/bbs/MobileComm/M.1615638652.A.B4D.html [公告] 欸，當我好夥伴啦-板主徵選相關事宜\n"
     ]
    }
   ],
   "source": [
    "import requests\n",
    "from bs4 import BeautifulSoup\n",
    "\n",
    "r = requests.get(\"https://www.ptt.cc/bbs/MobileComm/index.html\")#將此頁面的HTML GET下來\n",
    "soup = BeautifulSoup(r.text,\"html.parser\") #將網頁資料以html.parser\n",
    "sel = soup.select(\"div.title a\")#取HTML標中的 <div class=\"title\"></div> 中的<a>標籤存入sel\n",
    "\n",
    "for s in sel:\n",
    "    print(s[\"href\"],s.text)"
   ]
  }
 ],
 "metadata": {
  "kernelspec": {
   "display_name": "Python 3",
   "language": "python",
   "name": "python3"
  },
  "language_info": {
   "codemirror_mode": {
    "name": "ipython",
    "version": 3
   },
   "file_extension": ".py",
   "mimetype": "text/x-python",
   "name": "python",
   "nbconvert_exporter": "python",
   "pygments_lexer": "ipython3",
   "version": "3.7.6"
  }
 },
 "nbformat": 4,
 "nbformat_minor": 4
}
